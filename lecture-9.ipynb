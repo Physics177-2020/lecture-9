{
 "cells": [
  {
   "cell_type": "markdown",
   "metadata": {},
   "source": [
    "# Lecture 9: Calculations with probability distributions\n",
    "\n",
    "Here we'll look at simple computations with probability distributions and show an example of the [law of large numbers](https://en.wikipedia.org/wiki/Law_of_large_numbers).\n",
    "\n",
    "Let's start with a random variable $X$. We'll assume that $X$ can only take on some discrete set of values, $X \\in \\left[v_1, v_2, \\ldots, v_n\\right]$. The probability that $X$ has any value $v_i$ is given by $P(v_i)$. $P$ is called the probability distribution, and it must be normalized so that\n",
    "\n",
    "$$\\sum_{i=1}^{n} P(v_i) = 1\\,.$$\n",
    "\n",
    "Sometimes, when the meaning is clear, we'll simply write the sum over all possible values $i$ as $\\sum_i$, without specifying the starting and ending indices. \n",
    "\n",
    "If we want to find the average of some function of the random variable $f(X)$, we do it by averaging $f(X)$ over the probability distribution,\n",
    "\n",
    "$$\\left\\langle f(X)\\right\\rangle = \\sum_i P(v_i)\\, f(v_i)\\,.$$\n",
    "\n",
    "The angular brackets $\\left\\langle \\cdot\\right\\rangle$ denote an average. Sometimes statisticians use the notation $E[\\cdot]$ to mean the same thing.\n",
    "\n",
    "### Example: a 6-sided die (D6)\n",
    "\n",
    "A simple example of a random number is the number that appears from a D6 roll. Let's define such an object in Python."
   ]
  },
  {
   "cell_type": "code",
   "execution_count": null,
   "metadata": {},
   "outputs": [],
   "source": [
    "import numpy as np\n",
    "import numpy.random as rng\n",
    "import seaborn as sns\n",
    "import matplotlib.pyplot as plt\n",
    "\n",
    "# Now, let's define the D6 -- what values can it take?\n",
    "d6_values = np.array([  ])\n",
    "\n",
    "# ...and what is the probability of getting each of them?\n",
    "d6_probs = np.array([  ])"
   ]
  },
  {
   "cell_type": "markdown",
   "metadata": {},
   "source": [
    "What is the expected (average) value that we would get when we roll the D6? Let's write a function to calculate it. Let's also check the variance."
   ]
  },
  {
   "cell_type": "code",
   "execution_count": null,
   "metadata": {},
   "outputs": [],
   "source": [
    "def get_avg(f):\n",
    "    \"\"\" Returns the average of a function f over rolls of a 6-sided die\"\"\"\n",
    "    return np.sum(  )"
   ]
  },
  {
   "cell_type": "code",
   "execution_count": null,
   "metadata": {},
   "outputs": [],
   "source": [
    "help(np.sum)"
   ]
  },
  {
   "cell_type": "code",
   "execution_count": null,
   "metadata": {},
   "outputs": [],
   "source": [
    "\n",
    "\n",
    "\n",
    "\n",
    "\n",
    "\n",
    "\n",
    "\n",
    "\n",
    "\n",
    "\n",
    "\n",
    "\n",
    "\n",
    "\n",
    "\n",
    "\n",
    "\n",
    "\n",
    "\n",
    "\n",
    "\n"
   ]
  },
  {
   "cell_type": "markdown",
   "metadata": {},
   "source": [
    "### Exploring finite sampling\n",
    "\n",
    "What do we expect to get if we roll the D6 a finite number of times? The average of our rolls will be distributed around the true average, but with some *noise*. As we saw earlier, the magnitude of the noise should scale like $1/\\sqrt{N}$, where $N$ is the number of samples (rolls). Let's check this numerically. First, we'll write a function that rolls the die, then we'll use that to generate random rolls and plot the results."
   ]
  },
  {
   "cell_type": "code",
   "execution_count": null,
   "metadata": {},
   "outputs": [],
   "source": [
    "# Let's write a function to roll the die\n",
    "\n",
    "def roll_d6(n_times=1):\n",
    "    \"\"\"Return n_times rolls of a 6-sided die\"\"\"\n",
    "    return np.random.choice(d6_values, size=n_times, p=d6_probs)"
   ]
  },
  {
   "cell_type": "code",
   "execution_count": null,
   "metadata": {},
   "outputs": [],
   "source": [
    "help(np.random.choice)"
   ]
  },
  {
   "cell_type": "code",
   "execution_count": null,
   "metadata": {},
   "outputs": [],
   "source": [
    "# The expected values\n",
    "\n",
    "def func(x):\n",
    "    return # FILL IN\n",
    "d6_mean = get_avg(func)\n",
    "\n",
    "def func(x):\n",
    "    return # FILL IN\n",
    "d6_var = get_avg(func) - d6_mean**2\n",
    "\n",
    "\n",
    "# Let's roll the D6 1000 times\n",
    "\n",
    "roll_1000 = roll_d6(1000)\n",
    "\n",
    "print('True mean: %.4f, sample mean: %.4f' % (d6_mean, np.mean(roll_1000)))\n",
    "print('True variance: %.4f, sample variance: %.4f' % (d6_var, np.var(roll_1000)))"
   ]
  },
  {
   "cell_type": "code",
   "execution_count": null,
   "metadata": {},
   "outputs": [],
   "source": [
    "\n",
    "\n",
    "\n",
    "\n",
    "\n",
    "\n",
    "\n",
    "\n",
    "\n",
    "\n",
    "\n",
    "\n",
    "\n",
    "\n",
    "\n",
    "\n",
    "\n",
    "\n",
    "\n",
    "\n",
    "\n",
    "\n"
   ]
  },
  {
   "cell_type": "markdown",
   "metadata": {},
   "source": [
    "**Exercise:** Let's make a plot to observe convergence to the mean. Test different values for the number of rolls. What happens as the number of rolls increases? \n",
    "\n",
    "Based on our prior calculations, I claim that the average value over $N$ rolls will be centered around the true average, with a standard deviation that is equal to the standard deviation of a single roll, divided by $\\sqrt{N}$. Does this describe your results?"
   ]
  },
  {
   "cell_type": "code",
   "execution_count": null,
   "metadata": {},
   "outputs": [],
   "source": [
    "# First, define the Gaussian distribution\n",
    "\n",
    "def gaussian(x, mu, sigma):\n",
    "    return np.exp( -(x-mu)**2 /( 2 * (sigma**2) ) ) / np.sqrt(2 * np.pi * (sigma**2))\n",
    "\n",
    "\n",
    "# Now, roll the die many times and get the average over each set of rolls\n",
    "\n",
    "n_rolls   = 100  # ADJUST THESE VALUES\n",
    "n_repeats = 100  # ADJUST THESE VALUES\n",
    "\n",
    "avgs = []\n",
    "for i in range(n_repeats):\n",
    "    avgs.append(np.mean(roll_d6(n_rolls)))\n",
    "\n",
    "    \n",
    "# Plot the histogram of the role values, together with expectations\n",
    " \n",
    "mu    = d6_mean\n",
    "sigma = np.sqrt(d6_var / n_rolls)\n",
    "dx    = 6*sigma/1000\n",
    "x_vals = np.arange(mu - 3*sigma, mu + 3*sigma + dx, dx)\n",
    "y_vals = gaussian(x_vals, mu, sigma)\n",
    "\n",
    "dims = 6\n",
    "fig, ax = plt.subplots(figsize=(dims, dims))\n",
    "sns.distplot(avgs, ax=ax, kde=False, norm_hist=True)\n",
    "sns.lineplot(x_vals, y_vals, label='Theory')\n",
    "plt.title(\"Convergence to the mean\");"
   ]
  }
 ],
 "metadata": {
  "kernelspec": {
   "display_name": "Python 3",
   "language": "python",
   "name": "python3"
  },
  "language_info": {
   "codemirror_mode": {
    "name": "ipython",
    "version": 3
   },
   "file_extension": ".py",
   "mimetype": "text/x-python",
   "name": "python",
   "nbconvert_exporter": "python",
   "pygments_lexer": "ipython3",
   "version": "3.7.7"
  }
 },
 "nbformat": 4,
 "nbformat_minor": 2
}
